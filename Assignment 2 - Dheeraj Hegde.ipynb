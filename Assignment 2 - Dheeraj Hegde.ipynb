{
 "cells": [
  {
   "cell_type": "markdown",
   "metadata": {},
   "source": [
    "## Assignment 2"
   ]
  },
  {
   "cell_type": "markdown",
   "metadata": {},
   "source": [
    "## Question 1. Create the below pattern using nested for loop in Python.\n",
    "\n",
    "\n",
    "#### *\n",
    "#### * *\n",
    "#### * * *\n",
    "#### * * * *\n",
    "#### * * * * *\n",
    "#### * * * *\n",
    "#### * * *\n",
    "#### * *\n",
    "#### *"
   ]
  },
  {
   "cell_type": "markdown",
   "metadata": {},
   "source": [
    "### Solution"
   ]
  },
  {
   "cell_type": "markdown",
   "metadata": {},
   "source": [
    "Have provided 2 solutions for the above problem and 1 generic solution for n number of * to be printed as follows"
   ]
  },
  {
   "cell_type": "markdown",
   "metadata": {},
   "source": [
    "#### Solution - 1"
   ]
  },
  {
   "cell_type": "code",
   "execution_count": 17,
   "metadata": {},
   "outputs": [
    {
     "name": "stdout",
     "output_type": "stream",
     "text": [
      "*\n",
      "**\n",
      "***\n",
      "****\n",
      "*****\n",
      "****\n",
      "***\n",
      "**\n",
      "*\n"
     ]
    }
   ],
   "source": [
    "## Program to print * pattern\n",
    "\n",
    "## Loop for 10 times starting from 1\n",
    "for i in range(1,11):\n",
    "    if i <=5:                           ## if the value of i is less than or equal to 5 then print * times i\n",
    "        print(\"*\" * i)\n",
    "    else:\n",
    "        for j in range(4,0,-1):         ## if value is greater than 5 print the reverse pattern starting from 4 to 1\n",
    "            print(\"*\" * j)\n",
    "        break                           ## Break all the loops once the pattern is printed"
   ]
  },
  {
   "cell_type": "markdown",
   "metadata": {},
   "source": [
    "#### Solution - 2"
   ]
  },
  {
   "cell_type": "code",
   "execution_count": 21,
   "metadata": {},
   "outputs": [
    {
     "name": "stdout",
     "output_type": "stream",
     "text": [
      "*\n",
      "**\n",
      "***\n",
      "****\n",
      "*****\n",
      "****\n",
      "***\n",
      "**\n",
      "*\n"
     ]
    }
   ],
   "source": [
    "\n",
    "for i in range(1,6):                  ## Loop thorugh 1 to 5 in forward order and print the pattern\n",
    "    print(\"*\" * i)\n",
    "else:\n",
    "    for j in range(4,0,-1):           ## Else loop in reverse order to print the pattern in reverse\n",
    "        print(\"*\" * j)"
   ]
  },
  {
   "cell_type": "markdown",
   "metadata": {},
   "source": [
    "#### Solution - Generic Form"
   ]
  },
  {
   "cell_type": "code",
   "execution_count": 18,
   "metadata": {},
   "outputs": [
    {
     "name": "stdout",
     "output_type": "stream",
     "text": [
      "Enter the number of stars that need to be printed in forward and reverse order5\n",
      "*\n",
      "**\n",
      "***\n",
      "****\n",
      "*****\n",
      "****\n",
      "***\n",
      "**\n",
      "*\n"
     ]
    }
   ],
   "source": [
    "## Generic form to print * pattern first in forward order and then in reverse order\n",
    "\n",
    "## Accept the number of stars to be printed from user\n",
    "n = int(input(\"Enter the number of stars that need to be printed in forward and reverse order\")) ##Ensure that the number being accepted is in integer form\n",
    "\n",
    "for i in range(1, n+1):                          ## Loop through till n\n",
    "    print(\"*\" * i)                               ## Print * in forward pattern\n",
    "else:\n",
    "    for j in range(n-1, 0, -1):                  ## loop and print * in reverse order\n",
    "        print(\"*\" * j)"
   ]
  },
  {
   "cell_type": "markdown",
   "metadata": {},
   "source": [
    "## Question 2 - Write a Python program to reverse a word after accepting the input from the user.\n",
    "\n",
    "### Sample Output:\n",
    "\n",
    "Input word : ineuron\n",
    "Output : norueni"
   ]
  },
  {
   "cell_type": "markdown",
   "metadata": {},
   "source": [
    "#### Solution"
   ]
  },
  {
   "cell_type": "code",
   "execution_count": 32,
   "metadata": {},
   "outputs": [
    {
     "name": "stdout",
     "output_type": "stream",
     "text": [
      "Enter a word to reverse and press Enter key :\n",
      "Dheeraj Hegde\n",
      "***************Reversing your word****************\n",
      "\n",
      "\n",
      "Your word in reverse is: edgeH jareehD\n"
     ]
    }
   ],
   "source": [
    "\"\"\"\n",
    "    Program to accept a word from the user and reverse the input to print the output\n",
    "    Functionality      -   Accepts string values and outputs the same in reverse order\n",
    "\"\"\"\n",
    "## Accept words from the user and store it within input_word\n",
    "input_word = input(\"Enter a word to reverse and press Enter key :\\n\")\n",
    "\n",
    "## Print statement\n",
    "print(\"Reversing your word\".center(50,'*'))\n",
    "print(\"\\n\")\n",
    "\n",
    "## Printing the reverse order the user provided string\n",
    "print(\"Your word in reverse is: %s\" % input_word[::-1])"
   ]
  },
  {
   "cell_type": "code",
   "execution_count": null,
   "metadata": {},
   "outputs": [],
   "source": []
  }
 ],
 "metadata": {
  "kernelspec": {
   "display_name": "Python 3",
   "language": "python",
   "name": "python3"
  },
  "language_info": {
   "codemirror_mode": {
    "name": "ipython",
    "version": 3
   },
   "file_extension": ".py",
   "mimetype": "text/x-python",
   "name": "python",
   "nbconvert_exporter": "python",
   "pygments_lexer": "ipython3",
   "version": "3.7.6"
  }
 },
 "nbformat": 4,
 "nbformat_minor": 4
}
