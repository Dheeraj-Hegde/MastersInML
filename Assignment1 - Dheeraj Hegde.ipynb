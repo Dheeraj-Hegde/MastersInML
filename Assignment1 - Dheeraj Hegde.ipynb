{
 "cells": [
  {
   "cell_type": "markdown",
   "metadata": {},
   "source": [
    "## Assignment 1"
   ]
  },
  {
   "cell_type": "markdown",
   "metadata": {},
   "source": [
    "This notebook answers the below assignment questions:\n",
    "\n",
    "### Question 1. Write a program which will find all such numbers which are divisible by 7 but are not a multiple of 5, between 2000 and 3200 (both included). The numbers obtained should be printed in a comma-separated sequence on a single line."
   ]
  },
  {
   "cell_type": "markdown",
   "metadata": {},
   "source": [
    "Solution 1 -"
   ]
  },
  {
   "cell_type": "code",
   "execution_count": 21,
   "metadata": {},
   "outputs": [
    {
     "name": "stdout",
     "output_type": "stream",
     "text": [
      "2002,2009,2016,2023,2037,2044,2051,2058,2072,2079,2086,2093,2107,2114,2121,2128,2142,2149,2156,2163,2177,2184,2191,2198,2212,2219,2226,2233,2247,2254,2261,2268,2282,2289,2296,2303,2317,2324,2331,2338,2352,2359,2366,2373,2387,2394,2401,2408,2422,2429,2436,2443,2457,2464,2471,2478,2492,2499,2506,2513,2527,2534,2541,2548,2562,2569,2576,2583,2597,2604,2611,2618,2632,2639,2646,2653,2667,2674,2681,2688,2702,2709,2716,2723,2737,2744,2751,2758,2772,2779,2786,2793,2807,2814,2821,2828,2842,2849,2856,2863,2877,2884,2891,2898,2912,2919,2926,2933,2947,2954,2961,2968,2982,2989,2996,3003,3017,3024,3031,3038,3052,3059,3066,3073,3087,3094,3101,3108,3122,3129,3136,3143,3157,3164,3171,3178,3192,3199\n"
     ]
    }
   ],
   "source": [
    "## Program to find all numbers which are divisible by 7 but are not a multiple of 5 between 2000 and 3200\n",
    "num = []                                    ## Create an empty list for the numbers to be added\n",
    "for i in range(2000,3201):                  ## loop through numbers between 2000 and 3200(inclusive)\n",
    "    if (i % 7 == 0) and (i % 5 != 0):       ## Check if the remainder of a number when divided by 7 is zero (To ensure that a given number is divisible by 7) and when divided by 5 is not equal 0 (To ensure that a given number is not a multiple of 5)\n",
    "        num.append(str(i))                  ## Append the number in case the above condition statisfies. Appended as a string to concatenate at a later point in time  \n",
    "\n",
    "print(','.join(num))                        ## Join strings separated by a comma"
   ]
  },
  {
   "cell_type": "markdown",
   "metadata": {},
   "source": [
    "Solution 2 -"
   ]
  },
  {
   "cell_type": "code",
   "execution_count": 11,
   "metadata": {},
   "outputs": [
    {
     "name": "stdout",
     "output_type": "stream",
     "text": [
      "2002, 2009, 2016, 2023, 2037, 2044, 2051, 2058, 2072, 2079, 2086, 2093, 2107, 2114, 2121, 2128, 2142, 2149, 2156, 2163, 2177, 2184, 2191, 2198, 2212, 2219, 2226, 2233, 2247, 2254, 2261, 2268, 2282, 2289, 2296, 2303, 2317, 2324, 2331, 2338, 2352, 2359, 2366, 2373, 2387, 2394, 2401, 2408, 2422, 2429, 2436, 2443, 2457, 2464, 2471, 2478, 2492, 2499, 2506, 2513, 2527, 2534, 2541, 2548, 2562, 2569, 2576, 2583, 2597, 2604, 2611, 2618, 2632, 2639, 2646, 2653, 2667, 2674, 2681, 2688, 2702, 2709, 2716, 2723, 2737, 2744, 2751, 2758, 2772, 2779, 2786, 2793, 2807, 2814, 2821, 2828, 2842, 2849, 2856, 2863, 2877, 2884, 2891, 2898, 2912, 2919, 2926, 2933, 2947, 2954, 2961, 2968, 2982, 2989, 2996, 3003, 3017, 3024, 3031, 3038, 3052, 3059, 3066, 3073, 3087, 3094, 3101, 3108, 3122, 3129, 3136, 3143, 3157, 3164, 3171, 3178, 3192, 3199\n"
     ]
    }
   ],
   "source": [
    "## Program to find all numbers which are divisible by 7 but are not a multiple of 5 between 2000 and 3200\n",
    "num = []                                    ## Create an empty list for the numbers to be added\n",
    "for i in range(2000,3201):                  ## loop through numbers between 2000 and 3200(inclusive)\n",
    "    if (i % 7 == 0) and (i % 5 != 0):       ## Check if the remainder of a number when divided by 7 is zero (To ensure that a given number is divisible by 7) and when divided by 5 is not equal 0 (To ensure that a given number is not a multiple of 5)\n",
    "        num.append(i)                       ## Append the number in case the above condition statisfies. Appended as a string to concatenate at a later point in time  \n",
    "\n",
    "num2 = str(num)                             ## Convert list to string\n",
    "length = len(num2)                          ## \n",
    "\n",
    "print(num2[1:(length - 1)])"
   ]
  },
  {
   "cell_type": "markdown",
   "metadata": {},
   "source": [
    "### Question 2. Write a Python program to accept the user's first and last name and then getting them printed in the the reverse order with a space between first name and last name."
   ]
  },
  {
   "cell_type": "code",
   "execution_count": 45,
   "metadata": {},
   "outputs": [
    {
     "name": "stdout",
     "output_type": "stream",
     "text": [
      "Enter your First Name and press Enter/Return key:\n",
      "Dheeraj\n",
      "Enter your Last Name and press Enter/Return key:\n",
      "Hegde\n",
      "\n",
      "\n",
      "***********Getting your names reversed************\n",
      "\n",
      "Your First and Last name in reverse order is : \n",
      "jareehD edgeH\n",
      "\n",
      "Your Entire name in reverse order is : \n",
      "edgeH jareehD\n"
     ]
    }
   ],
   "source": [
    "## Program to accept first and last name and reverse the same\n",
    "## Accept first name from the user and initialise it to first_name variable\n",
    "first_name = input(\"Enter your First Name and press Enter/Return key:\\n\")\n",
    "## Accept last name from the user and initialise it to last_name variable\n",
    "last_name = input(\"Enter your Last Name and press Enter/Return key:\\n\")\n",
    "\n",
    "print(\"\\n\")\n",
    "## Passing a comment to inform the user that the user's name is being reversed\n",
    "print(\"Getting your names reversed\".center(50,'*'))\n",
    "\n",
    "## Reversing first and last name in reverse order\n",
    "print(\"\\nYour First and Last name in reverse order is : \\n\" + str(first_name[::-1]) + ' ' + str(last_name[::-1]))\n",
    "\n",
    "## Reversing the entire name in reverse order\n",
    "print(\"\\nYour Entire name in reverse order is : \\n\" + str(last_name[::-1]) + ' ' + str(first_name[::-1]))"
   ]
  },
  {
   "cell_type": "markdown",
   "metadata": {},
   "source": [
    "### Question 3. Write a Python program to find the volume of a sphere with diameter 12 cm.\n",
    "\n",
    "Formula: V=4/3 * π * r 3"
   ]
  },
  {
   "cell_type": "code",
   "execution_count": 14,
   "metadata": {},
   "outputs": [
    {
     "name": "stdout",
     "output_type": "stream",
     "text": [
      "Volume of a sphere with diameter 12 cm is 904.7786842338603 cubic.cm\n"
     ]
    }
   ],
   "source": [
    "\"\"\"\n",
    "   Program to find the volume of a sphere with diameter 12 cm\n",
    "   \n",
    "   To achieve the same, pi has been initialized with it's value 3.1415926535897931\n",
    "   diameter of 12 cm has been assigned to dia variable\n",
    "   radius is computed using diameter/2 and is assigned to radius variable\n",
    "   Finally, volume is computed using the formula - 4/3 * pi * r**3 \n",
    "   \n",
    "\"\"\"\n",
    "## Assign value of pi\n",
    "pi = 3.1415926535897931\n",
    "\n",
    "## Assign diameter value to dia\n",
    "dia = 12\n",
    "\n",
    "## Compute/Calculate radius using the formula dia/2\n",
    "radius = (dia / 2.0)\n",
    "\n",
    "## Calculate the volume by the given formula\n",
    "vol = ((4 / 3) * pi * (radius ** 3))\n",
    "\n",
    "## print the output\n",
    "print(\"Volume of a sphere with diameter {} cm is {} cubic.cm\".format(dia,vol))"
   ]
  }
 ],
 "metadata": {
  "kernelspec": {
   "display_name": "Python 3",
   "language": "python",
   "name": "python3"
  },
  "language_info": {
   "codemirror_mode": {
    "name": "ipython",
    "version": 3
   },
   "file_extension": ".py",
   "mimetype": "text/x-python",
   "name": "python",
   "nbconvert_exporter": "python",
   "pygments_lexer": "ipython3",
   "version": "3.7.6"
  }
 },
 "nbformat": 4,
 "nbformat_minor": 4
}
